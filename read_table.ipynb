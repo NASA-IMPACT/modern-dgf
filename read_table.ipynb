{
 "cells": [
  {
   "cell_type": "code",
   "execution_count": 2,
   "metadata": {},
   "outputs": [],
   "source": [
    "import markdown\n"
   ]
  },
  {
   "cell_type": "code",
   "execution_count": 3,
   "metadata": {},
   "outputs": [],
   "source": [
    "with open('code/monitoring/README.md', 'r') as f:\n",
    "    content = f.read()\n",
    "\n",
    "table = markdown.markdown(content)\n"
   ]
  },
  {
   "cell_type": "code",
   "execution_count": 4,
   "metadata": {},
   "outputs": [
    {
     "data": {
      "text/plain": [
       "'<h2><strong>4.6 Monitoring</strong></h2>\\n<table>\\n<thead>\\n<tr class=\"header\">\\n<th><strong>Requirement</strong></th>\\n<th><strong>Procedure</strong> [Role - Data Steward (DS) or Data Engineer (DE)]</th>\\n</tr>\\n</thead>\\n<tbody>\\n<tr class=\"odd\">\\n<td>A4.6.1 Generate relevant metrics related to the code repository</td>\\n<td><p>B4.6.1 Generate periodic metrics to include: [DE]</p>\\n<p>GitHub Analytics</p>\\n<ul>\\n<li><blockquote>\\n<p>Views</p>\\n</blockquote></li>\\n<li><blockquote>\\n<p>Downloads</p>\\n</blockquote></li>\\n<li><blockquote>\\n<p>Commits</p>\\n</blockquote></li>\\n<li><blockquote>\\n<p>Number of contributors</p>\\n</blockquote></li>\\n<li><blockquote>\\n<p>Number of followers</p>\\n</blockquote></li>\\n<li><blockquote>\\n<p>Number of forks</p>\\n</blockquote></li>\\n<li><blockquote>\\n<p>Tracking activity of Issues and Comments</p>\\n</blockquote></li>\\n<li><blockquote>\\n<p>Number of referring sites</p>\\n</blockquote></li>\\n</ul></td>\\n</tr>\\n<tr class=\"even\">\\n<td>A4.6.2 Ensure users have access to the code</td>\\n<td>B4.6.2 Conduct periodic check of repositories through automated or manual means to ensure code is open and accessible [DE]</td>\\n</tr>\\n</tbody>\\n</table>'"
      ]
     },
     "execution_count": 4,
     "metadata": {},
     "output_type": "execute_result"
    }
   ],
   "source": [
    "table\n"
   ]
  },
  {
   "cell_type": "code",
   "execution_count": 2,
   "metadata": {},
   "outputs": [],
   "source": [
    "import pandas as pd\n"
   ]
  },
  {
   "cell_type": "code",
   "execution_count": 3,
   "metadata": {},
   "outputs": [],
   "source": [
    "df = pd.read_html('code/monitoring/README.md')\n"
   ]
  },
  {
   "cell_type": "code",
   "execution_count": 4,
   "metadata": {},
   "outputs": [
    {
     "data": {
      "text/html": [
       "<div>\n",
       "<style scoped>\n",
       "    .dataframe tbody tr th:only-of-type {\n",
       "        vertical-align: middle;\n",
       "    }\n",
       "\n",
       "    .dataframe tbody tr th {\n",
       "        vertical-align: top;\n",
       "    }\n",
       "\n",
       "    .dataframe thead th {\n",
       "        text-align: right;\n",
       "    }\n",
       "</style>\n",
       "<table border=\"1\" class=\"dataframe\">\n",
       "  <thead>\n",
       "    <tr style=\"text-align: right;\">\n",
       "      <th></th>\n",
       "      <th>Requirement</th>\n",
       "      <th>Procedure [Role - Data Steward (DS) or Data Engineer (DE)]</th>\n",
       "    </tr>\n",
       "  </thead>\n",
       "  <tbody>\n",
       "    <tr>\n",
       "      <th>0</th>\n",
       "      <td>A4.6.1 Generate relevant metrics related to th...</td>\n",
       "      <td>B4.6.1 Generate periodic metrics to include: [...</td>\n",
       "    </tr>\n",
       "    <tr>\n",
       "      <th>1</th>\n",
       "      <td>A4.6.2 Ensure users have access to the code</td>\n",
       "      <td>B4.6.2 Conduct periodic check of repositories ...</td>\n",
       "    </tr>\n",
       "  </tbody>\n",
       "</table>\n",
       "</div>"
      ],
      "text/plain": [
       "                                         Requirement  \\\n",
       "0  A4.6.1 Generate relevant metrics related to th...   \n",
       "1        A4.6.2 Ensure users have access to the code   \n",
       "\n",
       "  Procedure [Role - Data Steward (DS) or Data Engineer (DE)]  \n",
       "0  B4.6.1 Generate periodic metrics to include: [...          \n",
       "1  B4.6.2 Conduct periodic check of repositories ...          "
      ]
     },
     "execution_count": 4,
     "metadata": {},
     "output_type": "execute_result"
    }
   ],
   "source": [
    "df[0]\n"
   ]
  },
  {
   "cell_type": "code",
   "execution_count": 5,
   "metadata": {},
   "outputs": [],
   "source": [
    "from glob import glob\n"
   ]
  }
 ],
 "metadata": {
  "kernelspec": {
   "display_name": "mdgf",
   "language": "python",
   "name": "python3"
  },
  "language_info": {
   "codemirror_mode": {
    "name": "ipython",
    "version": 3
   },
   "file_extension": ".py",
   "mimetype": "text/x-python",
   "name": "python",
   "nbconvert_exporter": "python",
   "pygments_lexer": "ipython3",
   "version": "3.11.5"
  }
 },
 "nbformat": 4,
 "nbformat_minor": 2
}
